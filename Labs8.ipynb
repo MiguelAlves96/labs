{
 "cells": [
  {
   "cell_type": "markdown",
   "metadata": {},
   "source": [
    "# Lab 8 \n",
    "\n",
    "A simple chatbot\n",
    "\n",
    "**1.** Create a function that asks the user his name and says Hello, John Doe\n",
    "\n",
    "**2.** Create a function called chat that ask the user what is his problem and will answer \"yes of course\"\n",
    "\n",
    "**3.** Create a function called chat that ask the user what is his problem and will answer randomly among 6 possible answers\n",
    "\n",
    "**4.** Put all together and improve\n"
   ]
  },
  {
   "cell_type": "markdown",
   "metadata": {},
   "source": [
    "**1.** Create a function that ask the user his name and says Hello, John Doe"
   ]
  },
  {
   "cell_type": "code",
   "execution_count": 30,
   "metadata": {},
   "outputs": [
    {
     "name": "stdout",
     "output_type": "stream",
     "text": [
      "what is your name?miguel\n"
     ]
    },
    {
     "data": {
      "text/plain": [
       "'nice to meet you,  miguel'"
      ]
     },
     "execution_count": 30,
     "metadata": {},
     "output_type": "execute_result"
    }
   ],
   "source": [
    "# Create a function that ask the user his name and says Hello, John Doe\n",
    "#msg = \" \"\n",
    "#while msg != \"exit\":\n",
    "#    msg = input(\"what is your name ?\")\n",
    "#    if msg != \"\":\n",
    "#        print(\"Hello, \" + msg + \" !\")\n",
    "        \n",
    "        \n",
    "# Other option:\n",
    "def chat (question, answer):\n",
    "    msg = \"\"\n",
    "    while msg == \"\":\n",
    "        msg = input(question)\n",
    "    return str(answer) + \" \" + str(msg)\n",
    "chat(\"what is your name?\", \"nice to meet you, \")"
   ]
  },
  {
   "cell_type": "markdown",
   "metadata": {},
   "source": [
    "**2.** Create a function called chat that ask the user what is his problem and will answer \"yes of course\""
   ]
  },
  {
   "cell_type": "code",
   "execution_count": 31,
   "metadata": {},
   "outputs": [
    {
     "name": "stdout",
     "output_type": "stream",
     "text": [
      "What is your problem ?none\n"
     ]
    },
    {
     "data": {
      "text/plain": [
       "'Yes of course'"
      ]
     },
     "execution_count": 31,
     "metadata": {},
     "output_type": "execute_result"
    }
   ],
   "source": [
    "# Create a function called chat that ask the user what is his problem and will answer \"yes of course\"\n",
    "def chat2():\n",
    "    problem = input(\"What is your problem ?\")\n",
    "    return \"Yes of course\"\n",
    "chat2()"
   ]
  },
  {
   "cell_type": "markdown",
   "metadata": {},
   "source": [
    "**3.** Create a function called chat that ask the user what is his problem and will answer randomly among 6 possible answers"
   ]
  },
  {
   "cell_type": "code",
   "execution_count": 32,
   "metadata": {},
   "outputs": [
    {
     "name": "stdout",
     "output_type": "stream",
     "text": [
      "What is your problem ?none\n"
     ]
    },
    {
     "data": {
      "text/plain": [
       "'thank you'"
      ]
     },
     "execution_count": 32,
     "metadata": {},
     "output_type": "execute_result"
    }
   ],
   "source": [
    "# Create a function called chat that ask the user what is his problem and will answer randomly among 6 possible answers\n",
    "def chat3():\n",
    "    from random import randrange\n",
    "    problem=input(\"What is your problem ?\")\n",
    "    answers=[\"Yes of course\", \"you are right\", \"you are not right\", \"thank you for the information\", \"thank you\", \"yes\"]\n",
    "    answer=answers[randrange(6)]\n",
    "    return answer\n",
    "chat3()\n",
    "\n"
   ]
  },
  {
   "cell_type": "markdown",
   "metadata": {},
   "source": [
    "**4.** Put all together and improve"
   ]
  },
  {
   "cell_type": "code",
   "execution_count": 33,
   "metadata": {},
   "outputs": [
    {
     "name": "stdout",
     "output_type": "stream",
     "text": [
      "what is your name?Miguel\n",
      "What is your problem ?no problem \n"
     ]
    },
    {
     "data": {
      "text/plain": [
       "'thank you'"
      ]
     },
     "execution_count": 33,
     "metadata": {},
     "output_type": "execute_result"
    }
   ],
   "source": [
    "chat(\"what is your name?\", \"nice to meet you, \")\n",
    "chat3()"
   ]
  },
  {
   "cell_type": "code",
   "execution_count": null,
   "metadata": {},
   "outputs": [],
   "source": []
  }
 ],
 "metadata": {
  "kernelspec": {
   "display_name": "Python 3",
   "language": "python",
   "name": "python3"
  },
  "language_info": {
   "codemirror_mode": {
    "name": "ipython",
    "version": 3
   },
   "file_extension": ".py",
   "mimetype": "text/x-python",
   "name": "python",
   "nbconvert_exporter": "python",
   "pygments_lexer": "ipython3",
   "version": "3.7.3"
  }
 },
 "nbformat": 4,
 "nbformat_minor": 2
}
