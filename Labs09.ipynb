{
 "cells": [
  {
   "cell_type": "markdown",
   "metadata": {},
   "source": [
    "# lab 9\n",
    "\n",
    "Suppose you have the follwoing payoff matriz of a prisoner's dilemna\n",
    "$$\\begin{bmatrix} (2,2) & (0,3) \\\\ (3,0) & (1,1)  \\end{bmatrix}$$\n",
    "\n",
    "Player 0 may play 0 or 1 and player 1 may play 0 or 1. 0 is cooperate (our peace), 1 is not cooperate (war).\n"
   ]
  },
  {
   "cell_type": "markdown",
   "metadata": {},
   "source": [
    "**1.** Create a function that receives results from each one of the player and gives as results a tuple with the results."
   ]
  },
  {
   "cell_type": "code",
   "execution_count": 12,
   "metadata": {},
   "outputs": [
    {
     "name": "stdout",
     "output_type": "stream",
     "text": [
      "(3, 0)\n"
     ]
    }
   ],
   "source": [
    "def payoff (player1, player2):\n",
    "    player11 = [\"(2,2)\", \"(0,3)\"]\n",
    "    player12 = [\"(3,0)\", \"(1,1)\"]\n",
    "    if player1 == 0:\n",
    "        payoff = player11\n",
    "    if player1 == 1:\n",
    "        payoff = player12\n",
    "    if player2 == 0:\n",
    "        return  payoff[0]\n",
    "    if player2 == 1:\n",
    "        return  payoff[1]\n",
    "print(payoff(0,0))\n",
    "print(payoff(0,1))\n",
    "print(payoff(1,0))\n",
    "print(payoff(1,1))\n",
    "\n",
    "\n",
    "\n",
    "\n",
    "'''\n",
    "payofflist = [[(2,2),(0,3)],[(3,0),(1,1)]]\n",
    "def payoff(player0, player1):\n",
    "    return payofflist[player0][player1]\n",
    "\n",
    "print(payoff(1,0))\n",
    "'''"
   ]
  },
  {
   "cell_type": "markdown",
   "metadata": {},
   "source": [
    "**2.** Player 0 is the user that chooses between 0 a 1. Player 1 is a computer. Result is randomly generated.  "
   ]
  },
  {
   "cell_type": "code",
   "execution_count": 4,
   "metadata": {},
   "outputs": [
    {
     "name": "stdout",
     "output_type": "stream",
     "text": [
      "what´s your play ?1\n",
      "Payoff is (3,0)\n"
     ]
    }
   ],
   "source": [
    "import random \n",
    "computerplay = [0,1]\n",
    "player1 = int(input(\"what´s your play ?\"))\n",
    "computer = random.choice(computerplay)\n",
    "print(\"Payoff is \" + payoff(player1,computer))\n"
   ]
  },
  {
   "cell_type": "markdown",
   "metadata": {},
   "source": [
    "**3.** Calculate the accumulated value resulting from an iterative game (10 iterations)"
   ]
  },
  {
   "cell_type": "code",
   "execution_count": 5,
   "metadata": {},
   "outputs": [
    {
     "name": "stdout",
     "output_type": "stream",
     "text": [
      "what´s your play ?1\n",
      "(3,0)\n",
      " \n",
      "what´s your play ?1\n",
      "(3,0)\n",
      " \n",
      "what´s your play ?1\n",
      "(1,1)\n",
      " \n",
      "what´s your play ?1\n",
      "(3,0)\n",
      " \n",
      "what´s your play ?0\n",
      "(0,3)\n",
      " \n",
      "what´s your play ?1\n",
      "(1,1)\n",
      " \n",
      "what´s your play ?0\n",
      "(2,2)\n",
      " \n",
      "what´s your play ?1\n",
      "(3,0)\n",
      " \n",
      "what´s your play ?1\n",
      "(3,0)\n",
      " \n",
      "what´s your play ?0\n",
      "(2,2)\n",
      " \n"
     ]
    }
   ],
   "source": [
    "n = 0\n",
    "import random \n",
    "while n < 10 :\n",
    "    player1 = \"\"\n",
    "    computer = \"\"\n",
    "    computerplay = [0,1]\n",
    "    player1 = int(input(\"what´s your play ?\"))\n",
    "    computer = random.choice(computerplay)\n",
    "    print(payoff(player1,computer))\n",
    "    print(\" \")\n",
    "    n = n + 1"
   ]
  },
  {
   "cell_type": "markdown",
   "metadata": {},
   "source": [
    " "
   ]
  }
 ],
 "metadata": {
  "kernelspec": {
   "display_name": "Python 3",
   "language": "python",
   "name": "python3"
  },
  "language_info": {
   "codemirror_mode": {
    "name": "ipython",
    "version": 3
   },
   "file_extension": ".py",
   "mimetype": "text/x-python",
   "name": "python",
   "nbconvert_exporter": "python",
   "pygments_lexer": "ipython3",
   "version": "3.7.3"
  }
 },
 "nbformat": 4,
 "nbformat_minor": 2
}
