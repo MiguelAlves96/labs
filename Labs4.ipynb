{
 "cells": [
  {
   "cell_type": "code",
   "execution_count": 68,
   "metadata": {},
   "outputs": [
    {
     "name": "stdout",
     "output_type": "stream",
     "text": [
      "[1000, 1100.0, 1210.0, 1331.0, 1464.1000000000001, 1610.5100000000002]\n"
     ]
    }
   ],
   "source": [
    "ItialValueSales = 1000\n",
    "AnualGrowthRate = 0.1\n",
    "NumberYears = 6\n",
    "YearNow = 0\n",
    "SalesVolume = [ItialValueSales]\n",
    "while YearNow < 5:\n",
    "    SalesVolume.append(SalesVolume[YearNow]*(1+AnualGrowthRate))\n",
    "    YearNow += 1\n",
    "print (SalesVolume)                  "
   ]
  },
  {
   "cell_type": "code",
   "execution_count": 69,
   "metadata": {},
   "outputs": [
    {
     "name": "stdout",
     "output_type": "stream",
     "text": [
      "[300.00000000000006, 330.00000000000006, 363.00000000000006, 399.30000000000007, 439.23000000000013, 483.15300000000013]\n"
     ]
    }
   ],
   "source": [
    "margin = 0.7\n",
    "AnualCost = [ItialValueSales*(1-margin)]\n",
    "YearNow = 0\n",
    "while YearNow < 5:\n",
    "    AnualCost.append(SalesVolume[YearNow+1]*(1-margin))\n",
    "    YearNow += 1\n",
    "print (AnualCost) "
   ]
  },
  {
   "cell_type": "code",
   "execution_count": 70,
   "metadata": {},
   "outputs": [
    {
     "name": "stdout",
     "output_type": "stream",
     "text": [
      "[700.0, 770.0, 847.0, 931.6999999999999, 1024.87, 1127.357]\n"
     ]
    }
   ],
   "source": [
    "YearNow = 0\n",
    "Profit = [ItialValueSales-AnualCost[0]]\n",
    "while YearNow < 5:\n",
    "    Profit.append(SalesVolume[YearNow+1]-AnualCost[YearNow+1])\n",
    "    YearNow += 1\n",
    "print (Profit)"
   ]
  },
  {
   "cell_type": "code",
   "execution_count": 71,
   "metadata": {},
   "outputs": [
    {
     "name": "stdout",
     "output_type": "stream",
     "text": [
      "[200.0, 270.0, 347.0, 431.69999999999993, 524.8699999999999, 627.357]\n"
     ]
    }
   ],
   "source": [
    "NewProfit = [Profit[0] - 500]\n",
    "YearNow = 0\n",
    "while YearNow < 5:\n",
    "    NewProfit.append(Profit[YearNow+1]-500)\n",
    "    YearNow += 1\n",
    "print (NewProfit)\n"
   ]
  },
  {
   "cell_type": "code",
   "execution_count": 72,
   "metadata": {},
   "outputs": [
    {
     "name": "stdout",
     "output_type": "stream",
     "text": [
      "[898, 461, 1460, 220, 1681, 972]\n"
     ]
    }
   ],
   "source": [
    "from random import randint\n",
    "newSales = [randint(200, 2000)]\n",
    "numberOfYears = 6\n",
    "YearNow = 0 \n",
    "while YearNow < numberOfYears - 1:\n",
    "    newSales.append(randint(200, 2000))\n",
    "    YearNow += 1\n",
    "print (newSales)\n"
   ]
  },
  {
   "cell_type": "code",
   "execution_count": 75,
   "metadata": {},
   "outputs": [
    {
     "name": "stdout",
     "output_type": "stream",
     "text": [
      "[-177.3, -177.3, 521.9999999999999, -346.0, 676.6999999999998, 180.39999999999998]\n"
     ]
    }
   ],
   "source": [
    "YearNow = 0\n",
    "NewProfits = [(newSales[YearNow+1]*0.7)-500]\n",
    "while YearNow < 5:\n",
    "    NewProfits.append((newSales[YearNow+1]*0.7)-500)\n",
    "    YearNow += 1\n",
    "print (NewProfits)\n",
    "\n",
    "\n",
    "\n"
   ]
  },
  {
   "cell_type": "code",
   "execution_count": 87,
   "metadata": {},
   "outputs": [
    {
     "name": "stdout",
     "output_type": "stream",
     "text": [
      "50.0\n"
     ]
    }
   ],
   "source": [
    "positeYear = 0\n",
    "negativeYear = 0\n",
    "YearNow = 0\n",
    "while YearNow < 6:\n",
    "    if NewProfits[YearNow] > 0:\n",
    "        positeYear += 1\n",
    "    if NewProfits[YearNow] < 0:\n",
    "        negativeYear += 1\n",
    "    YearNow += 1\n",
    "print (((positeYear/(negativeYear+positeYear))*100))        "
   ]
  },
  {
   "cell_type": "code",
   "execution_count": 90,
   "metadata": {},
   "outputs": [
    {
     "data": {
      "image/png": "[encoded data removed]",
      "text/plain": [
       "<Figure size 432x288 with 1 Axes>"
      ]
     },
     "metadata": {
      "needs_background": "light"
     },
     "output_type": "display_data"
    }
   ],
   "source": [
    "import matplotlib.pyplot as plt \n",
    "plt.plot(NewProfit) \n",
    "plt.plot(NewProfits) \n",
    "plt.ylabel('New Profit') \n",
    "plt.xlabel('New Profits')\n",
    "plt.show()"
   ]
  },
  {
   "cell_type": "code",
   "execution_count": null,
   "metadata": {},
   "outputs": [],
   "source": []
  }
 ],
 "metadata": {
  "kernelspec": {
   "display_name": "Python 3",
   "language": "python",
   "name": "python3"
  },
  "language_info": {
   "codemirror_mode": {
    "name": "ipython",
    "version": 3
   },
   "file_extension": ".py",
   "mimetype": "text/x-python",
   "name": "python",
   "nbconvert_exporter": "python",
   "pygments_lexer": "ipython3",
   "version": "3.7.3"
  }
 },
 "nbformat": 4,
 "nbformat_minor": 2
}
