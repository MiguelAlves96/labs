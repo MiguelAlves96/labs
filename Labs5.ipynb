{
 "cells": [
  {
   "cell_type": "markdown",
   "metadata": {},
   "source": [
    "# Lab 5\n",
    "\n",
    "How to verify if a number is a possible credit card number?\n",
    "In order to verify the check digit is correct, verify the following steps:\n",
    "\n",
    "* Supose the following number=\"5105105105105100\".\n",
    "* Convert the number into a list\n",
    "* Reverse the List\n",
    "* Starting from the left digit, double every second digit.\n",
    "* If double of a digit is more than 9, add the digits.\n",
    "* Sum all the numbers except the first one multiply by 9 and remove the unit\n",
    "\n"
   ]
  },
  {
   "cell_type": "code",
   "execution_count": 158,
   "metadata": {},
   "outputs": [],
   "source": [
    "#Start by converting the number into a list\n",
    "number=\"5105105105105100\"\n"
   ]
  },
  {
   "cell_type": "code",
   "execution_count": 159,
   "metadata": {},
   "outputs": [
    {
     "name": "stdout",
     "output_type": "stream",
     "text": [
      "['0', '0', '1', '5', '0', '1', '5', '0', '1', '5', '0', '1', '5', '0', '1', '5']\n"
     ]
    }
   ],
   "source": [
    "#convert a number into a list\n",
    "length = len(number)\n",
    "n=0\n",
    "CreditCardNumListaux=[]\n",
    "CreditCardNumList=[]\n",
    "while n < len(number) :\n",
    "    CreditCardNumListaux.append(number[n])\n",
    "    n += 1\n",
    "n=0\n",
    "while n < len(number) :\n",
    "    CreditCardNumList.append(CreditCardNumListaux[len(number)-n-1])\n",
    "    n += 1\n",
    "    \n",
    "print(CreditCardNumList)\n"
   ]
  },
  {
   "cell_type": "code",
   "execution_count": 160,
   "metadata": {},
   "outputs": [
    {
     "name": "stdout",
     "output_type": "stream",
     "text": [
      "[0, 0, 1, 5, 0, 1, 5, 0, 1, 5, 0, 1, 5, 0, 1, 5]\n"
     ]
    }
   ],
   "source": [
    "#Convert stings into integers\n",
    "n=0\n",
    "while n < len(number):\n",
    "    CreditCardNumList[n]=int(CreditCardNumList[n])\n",
    "    n += 1\n",
    "print(CreditCardNumList)\n",
    "    "
   ]
  },
  {
   "cell_type": "code",
   "execution_count": 161,
   "metadata": {},
   "outputs": [
    {
     "name": "stdout",
     "output_type": "stream",
     "text": [
      "[0, 0, 2, 5, 0, 1, 10, 0, 2, 5, 0, 1, 10, 0, 2, 5]\n"
     ]
    }
   ],
   "source": [
    "# Starting from the left digit, double every second digit.\n",
    "n=0\n",
    "for n in range(0,len(number)):\n",
    "    if n % 2 == 0:\n",
    "        CreditCardNumList[n]=CreditCardNumList[n]*2\n",
    "    if n % 2 != 0:\n",
    "        CreditCardNumList[n]=CreditCardNumList[n]\n",
    "    n += 1\n",
    "print(CreditCardNumList)\n",
    "        \n",
    "        "
   ]
  },
  {
   "cell_type": "code",
   "execution_count": 162,
   "metadata": {},
   "outputs": [
    {
     "name": "stdout",
     "output_type": "stream",
     "text": [
      "[0, 0, 2, 5, 0, 1, 1, 0, 2, 5, 0, 1, 1, 0, 2, 5]\n"
     ]
    }
   ],
   "source": [
    "# If double of a digit is more then 9, add the digits.\n",
    "n=0\n",
    "digit=0\n",
    "stringDigit=\"\"\n",
    "strLeftDigit=\"\"\n",
    "strRightDigit=\"\"\n",
    "LeftDigit=0\n",
    "RightDigit=0\n",
    "for n in range(0,len(number)):\n",
    "    if CreditCardNumList[n] > 9:\n",
    "        digit = CreditCardNumList[n]\n",
    "        stringDigit = str(digit)\n",
    "        strLeftDigit = stringDigit[0]\n",
    "        strRightDigit = stringDigit[1]\n",
    "        LeftDigit = int(strLeftDigit)\n",
    "        RightDigit = int(strRightDigit)\n",
    "        CreditCardNumList[n] = LeftDigit+RightDigit   \n",
    "print(CreditCardNumList)"
   ]
  },
  {
   "cell_type": "code",
   "execution_count": 163,
   "metadata": {},
   "outputs": [
    {
     "name": "stdout",
     "output_type": "stream",
     "text": [
      "[0, 0, 2, 5, 0, 1, 1, 0, 2, 5, 0, 1, 1, 0, 2, 5]\n",
      "25\n"
     ]
    }
   ],
   "source": [
    "# Sum all the numbers except the first one\n",
    "n=1\n",
    "SumDigits=0\n",
    "for n in range(1,len(number)):\n",
    "    SumDigits = SumDigits + CreditCardNumList[n]\n",
    "print(CreditCardNumList)\n",
    "print(SumOfDigits)"
   ]
  },
  {
   "cell_type": "code",
   "execution_count": 164,
   "metadata": {},
   "outputs": [
    {
     "name": "stdout",
     "output_type": "stream",
     "text": [
      "The check Digit of your card is:\n",
      "22\n"
     ]
    }
   ],
   "source": [
    "# multiply by 9 and remove the unit\n",
    "SumDigits = SumDigits*9\n",
    "StrSumDigits = str(SumDigits)\n",
    "StrSumDigitsExeptUnit = StrSumDigits[0:len(StrSumDigits)-1]\n",
    "SumDigitsExeptUnit = int(StrSumDigitsExeptUnit)\n",
    "print(\"The check Digit of your card is:\")\n",
    "print(SumDigitsExeptUnit)"
   ]
  },
  {
   "cell_type": "markdown",
   "metadata": {},
   "source": [
    "If the last number of variable numer is the same you reached, the check digit of the credit card is correct"
   ]
  },
  {
   "cell_type": "code",
   "execution_count": null,
   "metadata": {},
   "outputs": [],
   "source": []
  }
 ],
 "metadata": {
  "kernelspec": {
   "display_name": "Python 3",
   "language": "python",
   "name": "python3"
  },
  "language_info": {
   "codemirror_mode": {
    "name": "ipython",
    "version": 3
   },
   "file_extension": ".py",
   "mimetype": "text/x-python",
   "name": "python",
   "nbconvert_exporter": "python",
   "pygments_lexer": "ipython3",
   "version": "3.7.3"
  }
 },
 "nbformat": 4,
 "nbformat_minor": 2
}
