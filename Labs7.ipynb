{
 "cells": [
  {
   "cell_type": "code",
   "execution_count": 51,
   "metadata": {},
   "outputs": [],
   "source": [
    "# calculate NPV. The rate is a float and the cash flows and investment are in a list.\n",
    "# create a function called NPV to calculate NPV\n",
    "# create a function to calcule IRR. In order to calculate IRR you may aproximate the follwoing expression: rate= rate*(1-NPV(CFList, rate)/invest)\n",
    "# create a function for payback period"
   ]
  },
  {
   "cell_type": "code",
   "execution_count": 114,
   "metadata": {
    "scrolled": true
   },
   "outputs": [
    {
     "name": "stdout",
     "output_type": "stream",
     "text": [
      "71.3199380273798\n"
     ]
    }
   ],
   "source": [
    "# calculate NPV. The rate is a float and the cash flows and investment are in a list.\n",
    "CFList = [-1000, 200, 200, 300, 500]\n",
    "rate = 0.04\n",
    "NPV = 0\n",
    "for n in range(len(CFList)):\n",
    "    NPV = NPV + CFList[n]/((1+rate)**(n))\n",
    "print(NPV)"
   ]
  },
  {
   "cell_type": "code",
   "execution_count": 115,
   "metadata": {},
   "outputs": [
    {
     "name": "stdout",
     "output_type": "stream",
     "text": [
      "71.3199380273798\n"
     ]
    }
   ],
   "source": [
    "# create a function called NPV to calculate NPV\n",
    "def NPV(CFList, rate ):\n",
    "    a = 0\n",
    "    for n in range(len(CFList)):\n",
    "        a = a + CFList[n]/((1+rate)**(n))\n",
    "    return a\n",
    "print(NPV(CFList, rate))"
   ]
  },
  {
   "cell_type": "code",
   "execution_count": 116,
   "metadata": {},
   "outputs": [
    {
     "name": "stdout",
     "output_type": "stream",
     "text": [
      "0.06542842834790366\n"
     ]
    }
   ],
   "source": [
    "# create a function to calcule IRR. In order to calculate IRR you may aproximate the follwoing expression: rate= rate*(1-NPV(CFList, rate)/invest)\n",
    "def IRR(CFList):\n",
    "    rate = 1\n",
    "    for i in range(1,100):   \n",
    "        rate=rate*(1-NPV(CFList,rate)/CFList[0])\n",
    "    return rate\n",
    "\n",
    "print(IRR(CFList))"
   ]
  },
  {
   "cell_type": "code",
   "execution_count": 119,
   "metadata": {},
   "outputs": [
    {
     "name": "stdout",
     "output_type": "stream",
     "text": [
      "3.6\n"
     ]
    }
   ],
   "source": [
    "# create a function for payback period\n",
    "def PayBackPeriod(CFList):\n",
    "    invest= int(CFList[0])\n",
    "    a = 0\n",
    "    for n in range(0,len(CFList)):\n",
    "        a += CFList[n]\n",
    "        if a >= 0: \n",
    "            b = (n-1)+((CFList[n]-a)/(CFList[n]))\n",
    "            return b \n",
    "print(PayBackPeriod(CFList))"
   ]
  },
  {
   "cell_type": "code",
   "execution_count": null,
   "metadata": {},
   "outputs": [],
   "source": [
    "\n"
   ]
  },
  {
   "cell_type": "code",
   "execution_count": null,
   "metadata": {},
   "outputs": [],
   "source": []
  }
 ],
 "metadata": {
  "kernelspec": {
   "display_name": "Python 3",
   "language": "python",
   "name": "python3"
  },
  "language_info": {
   "codemirror_mode": {
    "name": "ipython",
    "version": 3
   },
   "file_extension": ".py",
   "mimetype": "text/x-python",
   "name": "python",
   "nbconvert_exporter": "python",
   "pygments_lexer": "ipython3",
   "version": "3.7.3"
  }
 },
 "nbformat": 4,
 "nbformat_minor": 2
}
