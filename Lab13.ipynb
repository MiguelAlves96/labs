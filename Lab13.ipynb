{
 "cells": [
  {
   "cell_type": "code",
   "execution_count": 2,
   "metadata": {},
   "outputs": [],
   "source": [
    "import pandas as pd \n",
    "df = pd.read_csv(\"pokemon.csv\",encoding=\"ANSI\") #because by default "
   ]
  },
  {
   "cell_type": "code",
   "execution_count": 7,
   "metadata": {
    "scrolled": true
   },
   "outputs": [
    {
     "data": {
      "text/html": [
       "<div>\n",
       "<style scoped>\n",
       "    .dataframe tbody tr th:only-of-type {\n",
       "        vertical-align: middle;\n",
       "    }\n",
       "\n",
       "    .dataframe tbody tr th {\n",
       "        vertical-align: top;\n",
       "    }\n",
       "\n",
       "    .dataframe thead th {\n",
       "        text-align: right;\n",
       "    }\n",
       "</style>\n",
       "<table border=\"1\" class=\"dataframe\">\n",
       "  <thead>\n",
       "    <tr style=\"text-align: right;\">\n",
       "      <th></th>\n",
       "      <th>#</th>\n",
       "      <th>NAME_ENGLISH</th>\n",
       "      <th>NAME_GERMAN</th>\n",
       "      <th>NAME_FRENCH</th>\n",
       "      <th>NAME_JAPAN</th>\n",
       "      <th>NAME_KOREAN</th>\n",
       "      <th>TYP1</th>\n",
       "      <th>TYP2</th>\n",
       "      <th>GENERATION</th>\n",
       "      <th>CANDY</th>\n",
       "      <th>BUDDY_DISTANCE</th>\n",
       "      <th>MAX_HP</th>\n",
       "      <th>MAX_ATT</th>\n",
       "      <th>MAX_DEF</th>\n",
       "      <th>MAX_CP</th>\n",
       "      <th>CATCH_RATE</th>\n",
       "      <th>ESCAPE_RATE</th>\n",
       "      <th>SHINY</th>\n",
       "      <th>ICON_PATH</th>\n",
       "      <th>SPRITE_PATH</th>\n",
       "    </tr>\n",
       "  </thead>\n",
       "  <tbody>\n",
       "    <tr>\n",
       "      <th>0</th>\n",
       "      <td>1</td>\n",
       "      <td>Bulbasaur</td>\n",
       "      <td>Bisasam</td>\n",
       "      <td>Bulbizarre</td>\n",
       "      <td>Fushigidane</td>\n",
       "      <td>Isanghaessi</td>\n",
       "      <td>Grass</td>\n",
       "      <td>Poison</td>\n",
       "      <td>1.0</td>\n",
       "      <td>25.0</td>\n",
       "      <td>3.0</td>\n",
       "      <td>128.0</td>\n",
       "      <td>118.0</td>\n",
       "      <td>111.0</td>\n",
       "      <td>1115.0</td>\n",
       "      <td>20,00 %</td>\n",
       "      <td>10,00 %</td>\n",
       "      <td>Yes</td>\n",
       "      <td>./icon/001.png</td>\n",
       "      <td>./sprites/001.png</td>\n",
       "    </tr>\n",
       "    <tr>\n",
       "      <th>1</th>\n",
       "      <td>2</td>\n",
       "      <td>Ivysaur</td>\n",
       "      <td>Bisaknosp</td>\n",
       "      <td>Herbizarre</td>\n",
       "      <td>Fushigisou</td>\n",
       "      <td>Isanghaepul</td>\n",
       "      <td>Grass</td>\n",
       "      <td>Poison</td>\n",
       "      <td>1.0</td>\n",
       "      <td>100.0</td>\n",
       "      <td>3.0</td>\n",
       "      <td>155.0</td>\n",
       "      <td>151.0</td>\n",
       "      <td>143.0</td>\n",
       "      <td>1699.0</td>\n",
       "      <td>10,00 %</td>\n",
       "      <td>7,00 %</td>\n",
       "      <td>Yes</td>\n",
       "      <td>./icon/002.png</td>\n",
       "      <td>./sprites/002.png</td>\n",
       "    </tr>\n",
       "    <tr>\n",
       "      <th>2</th>\n",
       "      <td>3</td>\n",
       "      <td>Venusaur</td>\n",
       "      <td>Bisaflor</td>\n",
       "      <td>Florizarre</td>\n",
       "      <td>Fushigibana</td>\n",
       "      <td>Isanghaekkot</td>\n",
       "      <td>Grass</td>\n",
       "      <td>Poison</td>\n",
       "      <td>1.0</td>\n",
       "      <td>NaN</td>\n",
       "      <td>3.0</td>\n",
       "      <td>190.0</td>\n",
       "      <td>198.0</td>\n",
       "      <td>189.0</td>\n",
       "      <td>2720.0</td>\n",
       "      <td>5,00 %</td>\n",
       "      <td>5,00 %</td>\n",
       "      <td>Yes</td>\n",
       "      <td>./icon/003.png</td>\n",
       "      <td>./sprites/003.png</td>\n",
       "    </tr>\n",
       "    <tr>\n",
       "      <th>3</th>\n",
       "      <td>4</td>\n",
       "      <td>Charmander</td>\n",
       "      <td>Glumanda</td>\n",
       "      <td>Salamèche</td>\n",
       "      <td>Hitokage</td>\n",
       "      <td>Pairi</td>\n",
       "      <td>Fire</td>\n",
       "      <td>NaN</td>\n",
       "      <td>1.0</td>\n",
       "      <td>25.0</td>\n",
       "      <td>3.0</td>\n",
       "      <td>118.0</td>\n",
       "      <td>116.0</td>\n",
       "      <td>93.0</td>\n",
       "      <td>980.0</td>\n",
       "      <td>20,00 %</td>\n",
       "      <td>10,00 %</td>\n",
       "      <td>Yes</td>\n",
       "      <td>./icon/004.png</td>\n",
       "      <td>./sprites/004.png</td>\n",
       "    </tr>\n",
       "    <tr>\n",
       "      <th>4</th>\n",
       "      <td>5</td>\n",
       "      <td>Charmeleon</td>\n",
       "      <td>Glutexo</td>\n",
       "      <td>Reptincel</td>\n",
       "      <td>Lizardo</td>\n",
       "      <td>Rijadeu</td>\n",
       "      <td>Fire</td>\n",
       "      <td>NaN</td>\n",
       "      <td>1.0</td>\n",
       "      <td>100.0</td>\n",
       "      <td>3.0</td>\n",
       "      <td>151.0</td>\n",
       "      <td>158.0</td>\n",
       "      <td>126.0</td>\n",
       "      <td>1653.0</td>\n",
       "      <td>10,00 %</td>\n",
       "      <td>7,00 %</td>\n",
       "      <td>Yes</td>\n",
       "      <td>./icon/005.png</td>\n",
       "      <td>./sprites/005.png</td>\n",
       "    </tr>\n",
       "  </tbody>\n",
       "</table>\n",
       "</div>"
      ],
      "text/plain": [
       "   # NAME_ENGLISH NAME_GERMAN NAME_FRENCH   NAME_JAPAN   NAME_KOREAN   TYP1  \\\n",
       "0  1    Bulbasaur     Bisasam  Bulbizarre  Fushigidane   Isanghaessi  Grass   \n",
       "1  2      Ivysaur   Bisaknosp  Herbizarre   Fushigisou   Isanghaepul  Grass   \n",
       "2  3     Venusaur    Bisaflor  Florizarre  Fushigibana  Isanghaekkot  Grass   \n",
       "3  4   Charmander    Glumanda   Salamèche     Hitokage         Pairi   Fire   \n",
       "4  5   Charmeleon     Glutexo   Reptincel      Lizardo       Rijadeu   Fire   \n",
       "\n",
       "     TYP2  GENERATION  CANDY  BUDDY_DISTANCE  MAX_HP  MAX_ATT  MAX_DEF  \\\n",
       "0  Poison         1.0   25.0             3.0   128.0    118.0    111.0   \n",
       "1  Poison         1.0  100.0             3.0   155.0    151.0    143.0   \n",
       "2  Poison         1.0    NaN             3.0   190.0    198.0    189.0   \n",
       "3     NaN         1.0   25.0             3.0   118.0    116.0     93.0   \n",
       "4     NaN         1.0  100.0             3.0   151.0    158.0    126.0   \n",
       "\n",
       "   MAX_CP CATCH_RATE ESCAPE_RATE SHINY       ICON_PATH        SPRITE_PATH  \n",
       "0  1115.0    20,00 %     10,00 %   Yes  ./icon/001.png  ./sprites/001.png  \n",
       "1  1699.0    10,00 %      7,00 %   Yes  ./icon/002.png  ./sprites/002.png  \n",
       "2  2720.0     5,00 %      5,00 %   Yes  ./icon/003.png  ./sprites/003.png  \n",
       "3   980.0    20,00 %     10,00 %   Yes  ./icon/004.png  ./sprites/004.png  \n",
       "4  1653.0    10,00 %      7,00 %   Yes  ./icon/005.png  ./sprites/005.png  "
      ]
     },
     "execution_count": 7,
     "metadata": {},
     "output_type": "execute_result"
    }
   ],
   "source": [
    "df.head()"
   ]
  },
  {
   "cell_type": "code",
   "execution_count": 9,
   "metadata": {},
   "outputs": [
    {
     "data": {
      "text/plain": [
       "18"
      ]
     },
     "execution_count": 9,
     "metadata": {},
     "output_type": "execute_result"
    }
   ],
   "source": [
    "len(df['TYP1'].value_counts()) #because using len will allow not having repeated values"
   ]
  },
  {
   "cell_type": "code",
   "execution_count": 20,
   "metadata": {},
   "outputs": [
    {
     "data": {
      "text/plain": [
       "18"
      ]
     },
     "execution_count": 20,
     "metadata": {},
     "output_type": "execute_result"
    }
   ],
   "source": [
    "len(df['TYP2'].value_counts())"
   ]
  },
  {
   "cell_type": "code",
   "execution_count": 32,
   "metadata": {},
   "outputs": [
    {
     "data": {
      "text/plain": [
       "Flying      97\n",
       "Ground      33\n",
       "Poison      32\n",
       "Psychic     30\n",
       "Fairy       30\n",
       "Steel       28\n",
       "Fighting    25\n",
       "Grass       20\n",
       "Dragon      20\n",
       "Dark        19\n",
       "Water       18\n",
       "Ghost       17\n",
       "Rock        14\n",
       "Fire        12\n",
       "Ice         12\n",
       "Electric    11\n",
       "Normal       6\n",
       "Bug          5\n",
       "Name: TYP2, dtype: int64"
      ]
     },
     "execution_count": 32,
     "metadata": {},
     "output_type": "execute_result"
    }
   ],
   "source": [
    "df['TYP2'].value_counts() #as it is possible to see without let we have all the type options"
   ]
  },
  {
   "cell_type": "code",
   "execution_count": 33,
   "metadata": {},
   "outputs": [],
   "source": [
    "#Create an explanatory model that the \"target\" is the \"Max Power of Combat\"\n",
    "from sklearn.linear_model import LinearRegression\n",
    "XY = df[['MAX_CP','MAX_HP','MAX_ATT','MAX_DEF']]\n",
    "XY.dtypes\n",
    "XY=XY.dropna()"
   ]
  },
  {
   "cell_type": "code",
   "execution_count": 34,
   "metadata": {},
   "outputs": [
    {
     "data": {
      "text/plain": [
       "LinearRegression(copy_X=True, fit_intercept=True, n_jobs=None, normalize=False)"
      ]
     },
     "execution_count": 34,
     "metadata": {},
     "output_type": "execute_result"
    }
   ],
   "source": [
    "Y = XY['MAX_CP']\n",
    "X = XY[['MAX_HP','MAX_ATT','MAX_DEF']]\n",
    "\n",
    "lm = LinearRegression()\n",
    "lm.fit(X,Y)"
   ]
  },
  {
   "cell_type": "code",
   "execution_count": 35,
   "metadata": {},
   "outputs": [
    {
     "data": {
      "text/plain": [
       "array([ 4.64031022, 10.43250854,  5.26935569])"
      ]
     },
     "execution_count": 35,
     "metadata": {},
     "output_type": "execute_result"
    }
   ],
   "source": [
    "lm.coef_"
   ]
  },
  {
   "cell_type": "code",
   "execution_count": 36,
   "metadata": {},
   "outputs": [
    {
     "data": {
      "text/plain": [
       "0.9649749015950121"
      ]
     },
     "execution_count": 36,
     "metadata": {},
     "output_type": "execute_result"
    }
   ],
   "source": [
    "lm.score(X,Y)"
   ]
  },
  {
   "cell_type": "code",
   "execution_count": 37,
   "metadata": {},
   "outputs": [
    {
     "data": {
      "image/png": "[encoded data removed]",
      "text/plain": [
       "<Figure size 864x864 with 2 Axes>"
      ]
     },
     "metadata": {
      "needs_background": "light"
     },
     "output_type": "display_data"
    }
   ],
   "source": [
    "import seaborn as sns\n",
    "import matplotlib.pyplot as plt\n",
    "fig = plt.figure(figsize=[12, 12])\n",
    "corr_mtx = XY.corr()\n",
    "sns.heatmap(corr_mtx, xticklabels=corr_mtx.columns, yticklabels=corr_mtx.columns, annot=True, cmap='Blues')\n",
    "plt.title('Correlation analysis')\n",
    "plt.show()\n",
    "\n",
    "#temos duas variáveis independes pouco correlacionadas entre si e é bom"
   ]
  },
  {
   "cell_type": "code",
   "execution_count": 38,
   "metadata": {},
   "outputs": [
    {
     "data": {
      "text/plain": [
       "#                  object\n",
       "NAME_ENGLISH       object\n",
       "NAME_GERMAN        object\n",
       "NAME_FRENCH        object\n",
       "NAME_JAPAN         object\n",
       "NAME_KOREAN        object\n",
       "TYP1               object\n",
       "TYP2               object\n",
       "GENERATION        float64\n",
       "CANDY             float64\n",
       "BUDDY_DISTANCE    float64\n",
       "MAX_HP            float64\n",
       "MAX_ATT           float64\n",
       "MAX_DEF           float64\n",
       "MAX_CP            float64\n",
       "CATCH_RATE         object\n",
       "ESCAPE_RATE        object\n",
       "SHINY              object\n",
       "ICON_PATH          object\n",
       "SPRITE_PATH        object\n",
       "dtype: object"
      ]
     },
     "execution_count": 38,
     "metadata": {},
     "output_type": "execute_result"
    }
   ],
   "source": [
    "df.dtypes"
   ]
  },
  {
   "cell_type": "code",
   "execution_count": 39,
   "metadata": {},
   "outputs": [],
   "source": [
    "XY = df[['MAX_CP','MAX_HP','CANDY','MAX_DEF']]\n",
    "XY.dtypes\n",
    "XY=XY.dropna()\n",
    "\n",
    "#I changed the max_att and i introduced the variable candy in order to make conclusions about the new regression"
   ]
  },
  {
   "cell_type": "code",
   "execution_count": 40,
   "metadata": {},
   "outputs": [
    {
     "data": {
      "text/plain": [
       "LinearRegression(copy_X=True, fit_intercept=True, n_jobs=None, normalize=False)"
      ]
     },
     "execution_count": 40,
     "metadata": {},
     "output_type": "execute_result"
    }
   ],
   "source": [
    "Y = XY['MAX_CP']\n",
    "X = XY[['MAX_HP','CANDY','MAX_DEF']]\n",
    "\n",
    "lm = LinearRegression()\n",
    "lm.fit(X,Y)"
   ]
  },
  {
   "cell_type": "code",
   "execution_count": 41,
   "metadata": {},
   "outputs": [
    {
     "data": {
      "text/plain": [
       "array([4.00272451, 0.75323533, 7.61569308])"
      ]
     },
     "execution_count": 41,
     "metadata": {},
     "output_type": "execute_result"
    }
   ],
   "source": [
    "lm.coef_"
   ]
  },
  {
   "cell_type": "code",
   "execution_count": 42,
   "metadata": {},
   "outputs": [
    {
     "data": {
      "text/plain": [
       "0.5192415427003362"
      ]
     },
     "execution_count": 42,
     "metadata": {},
     "output_type": "execute_result"
    }
   ],
   "source": [
    "lm.score(X,Y)"
   ]
  },
  {
   "cell_type": "code",
   "execution_count": 44,
   "metadata": {},
   "outputs": [
    {
     "data": {
      "image/png": "[encoded data removed]",
      "text/plain": [
       "<Figure size 864x864 with 2 Axes>"
      ]
     },
     "metadata": {
      "needs_background": "light"
     },
     "output_type": "display_data"
    }
   ],
   "source": [
    "import seaborn as sns\n",
    "import matplotlib.pyplot as plt\n",
    "fig = plt.figure(figsize=[12, 12])\n",
    "corr_mtx = XY.corr()\n",
    "sns.heatmap(corr_mtx, xticklabels=corr_mtx.columns, yticklabels=corr_mtx.columns, annot=True, cmap='Blues')\n",
    "plt.title('Correlation analysis')\n",
    "plt.show()\n",
    "\n",
    "#The correlation between the candy and the max_hp is really low but that is not necessarily bad"
   ]
  },
  {
   "cell_type": "code",
   "execution_count": null,
   "metadata": {},
   "outputs": [],
   "source": []
  }
 ],
 "metadata": {
  "kernelspec": {
   "display_name": "Python 3",
   "language": "python",
   "name": "python3"
  },
  "language_info": {
   "codemirror_mode": {
    "name": "ipython",
    "version": 3
   },
   "file_extension": ".py",
   "mimetype": "text/x-python",
   "name": "python",
   "nbconvert_exporter": "python",
   "pygments_lexer": "ipython3",
   "version": "3.7.3"
  }
 },
 "nbformat": 4,
 "nbformat_minor": 2
}
